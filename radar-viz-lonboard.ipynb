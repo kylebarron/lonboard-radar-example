{
 "cells": [
  {
   "cell_type": "code",
   "execution_count": 1,
   "id": "0da62bb1-6183-4fa0-8d26-de9569bd6082",
   "metadata": {},
   "outputs": [],
   "source": [
    "from lonboard import Map, SolidPolygonLayer\n",
    "from lonboard.basemap import CartoBasemap\n",
    "from lonboard.colormap import apply_continuous_cmap\n",
    "import xradar as xd\n",
    "import xarray as xr\n",
    "import numpy as np\n",
    "from pyxlma import coords\n",
    "import cmweather\n",
    "import geopandas as gpd\n",
    "\n",
    "from arro3.core import Array, Field, fixed_size_list_array, list_array, Table, Schema\n",
    "from geoarrow.rust import core as geoarrow\n",
    "\n",
    "import geoarrow.pyarrow as ga"
   ]
  },
  {
   "cell_type": "code",
   "execution_count": 2,
   "id": "6f8cc6bc-a928-4bc6-96be-62e364c6a8ac",
   "metadata": {},
   "outputs": [],
   "source": [
    "import requests\n",
    "from os import path\n",
    "\n",
    "if not path.exists(\"KLBB20240922_034901_V06\"):\n",
    "    radar_data = requests.get(\n",
    "        \"https://noaa-nexrad-level2.s3.amazonaws.com/2024/09/22/KLBB/KLBB20240922_034901_V06\"\n",
    "    )\n",
    "    with open(\"KLBB20240922_034901_V06\", \"wb\") as f:\n",
    "        f.write(radar_data.content)"
   ]
  },
  {
   "cell_type": "code",
   "execution_count": 3,
   "id": "9d1a30b5-fbd1-4065-9b47-25e6e42149f2",
   "metadata": {},
   "outputs": [],
   "source": [
    "rdr = xr.open_dataset(\n",
    "    \"KLBB20240922_034901_V06\", group=\"sweep_0\", engine=\"nexradlevel2\", chunks=\"auto\"\n",
    ")"
   ]
  },
  {
   "cell_type": "code",
   "execution_count": 4,
   "id": "b29fef9c-e62f-4bb2-8a5d-a84c91529777",
   "metadata": {},
   "outputs": [],
   "source": [
    "reflec_i_want = rdr.DBZH.data.flatten()\n",
    "reflec_i_want = reflec_i_want[reflec_i_want > -10]\n",
    "reflectivity_normalized = reflec_i_want / 90 + 1 / 9"
   ]
  },
  {
   "cell_type": "code",
   "execution_count": 5,
   "id": "76a77ce8-7c1e-47c9-b2c2-25a6d659c044",
   "metadata": {},
   "outputs": [],
   "source": [
    "rcs = coords.RadarCoordinateSystem(\n",
    "    rdr.latitude.data.item(), rdr.longitude.data.item(), rdr.altitude.data.item()\n",
    ")"
   ]
  },
  {
   "cell_type": "code",
   "execution_count": 6,
   "id": "a5b8dc6f-6d2f-4f41-a7bf-544f7a3c0782",
   "metadata": {},
   "outputs": [],
   "source": [
    "range2d, el2d = np.meshgrid(\n",
    "    coords.centers_to_edges(rdr.range.data), coords.centers_to_edges(rdr.elevation.data)\n",
    ")\n",
    "range2d, az2d = np.meshgrid(\n",
    "    coords.centers_to_edges(rdr.range.data), coords.centers_to_edges(rdr.azimuth.data)\n",
    ")"
   ]
  },
  {
   "cell_type": "code",
   "execution_count": 7,
   "id": "bb27b562-e802-4b8a-8c05-7a2b891a958e",
   "metadata": {},
   "outputs": [],
   "source": [
    "lon, lat, alt = rcs.toLonLatAlt(range2d, az2d, el2d)"
   ]
  },
  {
   "cell_type": "code",
   "execution_count": 8,
   "id": "9fdce11c-671a-42fe-9a26-b8a46aef8193",
   "metadata": {},
   "outputs": [],
   "source": [
    "lon_edge = np.array(lon).reshape(range2d.shape)\n",
    "lat_edge = np.array(lat).reshape(range2d.shape)\n",
    "alt_edge = np.array(alt).reshape(range2d.shape)"
   ]
  },
  {
   "cell_type": "code",
   "execution_count": 9,
   "id": "934ad8c7-29a5-4ff9-888a-a25baf64f68c",
   "metadata": {},
   "outputs": [],
   "source": [
    "# bottom-left: (i, j)\n",
    "bl_lon = lon_edge[:-1, :-1]\n",
    "bl_lat = lat_edge[:-1, :-1]\n",
    "# bl_alt = alt_edge[:-1, :-1]\n",
    "\n",
    "# bottom-right: (i+1, j)\n",
    "br_lon = lon_edge[1:, :-1]\n",
    "br_lat = lat_edge[1:, :-1]\n",
    "# br_alt = alt_edge[1:, :-1]\n",
    "\n",
    "# top-right: (i+1, j+1)\n",
    "tr_lon = lon_edge[1:, 1:]\n",
    "tr_lat = lat_edge[1:, 1:]\n",
    "# tr_alt = alt_edge[1:, 1:]\n",
    "\n",
    "# top-left: (i, j+1)\n",
    "tl_lon = lon_edge[:-1, 1:]\n",
    "tl_lat = lat_edge[:-1, 1:]\n",
    "# tl_alt = alt_edge[:-1, 1:]"
   ]
  },
  {
   "cell_type": "code",
   "execution_count": 10,
   "id": "196e186c-5b07-437c-9802-afafe6df848d",
   "metadata": {},
   "outputs": [],
   "source": [
    "lons_to_poly = np.array(\n",
    "    [bl_lon.flatten(), br_lon.flatten(), tr_lon.flatten(), tl_lon.flatten()]\n",
    ")\n",
    "lats_to_poly = np.array(\n",
    "    [bl_lat.flatten(), br_lat.flatten(), tr_lat.flatten(), tl_lat.flatten()]\n",
    ")\n",
    "# alts_to_poly = np.array([bl_alt.flatten(), br_alt.flatten(), tr_alt.flatten(), tl_alt.flatten()])"
   ]
  },
  {
   "cell_type": "code",
   "execution_count": 11,
   "id": "ed58ed32-3feb-4c0a-8dd0-3e24fef63a67",
   "metadata": {},
   "outputs": [],
   "source": [
    "poly_coords = np.stack([lons_to_poly, lats_to_poly], axis=-1).transpose(1, 0, 2)"
   ]
  },
  {
   "cell_type": "code",
   "execution_count": 12,
   "id": "2adf00f2-42a0-411d-aafb-3b7833fa7e91",
   "metadata": {},
   "outputs": [
    {
     "data": {
      "text/plain": [
       "(1319040, 4, 2)"
      ]
     },
     "execution_count": 12,
     "metadata": {},
     "output_type": "execute_result"
    }
   ],
   "source": [
    "poly_coords.shape"
   ]
  },
  {
   "cell_type": "code",
   "execution_count": 13,
   "id": "e83ae463-a0f4-4526-89ae-310077dc5ed9",
   "metadata": {},
   "outputs": [],
   "source": [
    "bad_points_mask_bool = (rdr.DBZH.data.flatten() > -10).compute().flatten()\n",
    "bad_points_mask = np.argwhere(bad_points_mask_bool).flatten()\n",
    "poly_coords = poly_coords[bad_points_mask, :, :]"
   ]
  },
  {
   "cell_type": "code",
   "execution_count": 14,
   "id": "5e602909",
   "metadata": {},
   "outputs": [
    {
     "data": {
      "text/plain": [
       "array([[-101.81418595,   33.6721714 ],\n",
       "       [-101.81418879,   33.67442525],\n",
       "       [-101.81419164,   33.67667911],\n",
       "       ...,\n",
       "       [-101.84229563,   36.22572718],\n",
       "       [-101.84232103,   36.2279762 ],\n",
       "       [-101.84234643,   36.23022521]])"
      ]
     },
     "execution_count": 14,
     "metadata": {},
     "output_type": "execute_result"
    }
   ],
   "source": [
    "poly_coords[:, 0, :]\n"
   ]
  },
  {
   "cell_type": "code",
   "execution_count": 15,
   "id": "2d04e3b9-0656-46cd-a2a1-b757221aa178",
   "metadata": {},
   "outputs": [
    {
     "name": "stdout",
     "output_type": "stream",
     "text": [
      "(366143, 5, 2)\n",
      "(3661430,)\n"
     ]
    }
   ],
   "source": [
    "poly_coords_closed = np.concat((poly_coords, poly_coords[:, 0:1, :]), axis=1)\n",
    "print(poly_coords_closed.shape)\n",
    "print(np.ravel(poly_coords_closed).shape)"
   ]
  },
  {
   "cell_type": "code",
   "execution_count": 16,
   "id": "fcec917e",
   "metadata": {},
   "outputs": [],
   "source": [
    "poly_coords_arrow = fixed_size_list_array(\n",
    "    Array.from_numpy(np.ravel(poly_coords_closed)), 2\n",
    ")"
   ]
  },
  {
   "cell_type": "code",
   "execution_count": 17,
   "id": "3503c174",
   "metadata": {},
   "outputs": [],
   "source": [
    "ring_offsets = Array.from_numpy(\n",
    "    np.arange(0, (poly_coords_closed.shape[0] + 1) * 5, 5, dtype=np.int32)\n",
    ")"
   ]
  },
  {
   "cell_type": "code",
   "execution_count": 18,
   "id": "de3e391c",
   "metadata": {},
   "outputs": [],
   "source": [
    "arrow_rings = list_array(ring_offsets, poly_coords_arrow)"
   ]
  },
  {
   "cell_type": "code",
   "execution_count": 19,
   "id": "2f5c7402",
   "metadata": {},
   "outputs": [
    {
     "data": {
      "text/plain": [
       "366144"
      ]
     },
     "execution_count": 19,
     "metadata": {},
     "output_type": "execute_result"
    }
   ],
   "source": [
    "len(ring_offsets)"
   ]
  },
  {
   "cell_type": "code",
   "execution_count": 20,
   "id": "4ad2b524",
   "metadata": {},
   "outputs": [],
   "source": [
    "geom_offsets = Array.from_numpy(\n",
    "    np.arange(poly_coords_closed.shape[0] + 1, dtype=np.int32)\n",
    ")"
   ]
  },
  {
   "cell_type": "code",
   "execution_count": 21,
   "id": "a645e4b6",
   "metadata": {},
   "outputs": [],
   "source": [
    "arrow_geoms = list_array(geom_offsets, arrow_rings)"
   ]
  },
  {
   "cell_type": "code",
   "execution_count": 22,
   "id": "40e3a2d3",
   "metadata": {},
   "outputs": [],
   "source": [
    "extension_metadata = {\"ARROW:extension:name\": \"geoarrow.polygon\"}\n",
    "field = Field(\"geometry\", arrow_geoms.type, nullable=True, metadata=extension_metadata)"
   ]
  },
  {
   "cell_type": "code",
   "execution_count": 23,
   "id": "38327a89",
   "metadata": {},
   "outputs": [],
   "source": [
    "schema = Schema([field])"
   ]
  },
  {
   "cell_type": "code",
   "execution_count": 24,
   "id": "5b337e4c",
   "metadata": {},
   "outputs": [],
   "source": [
    "table = Table.from_arrays([arrow_geoms], schema=schema)"
   ]
  },
  {
   "cell_type": "code",
   "execution_count": 25,
   "id": "d8a18489",
   "metadata": {},
   "outputs": [
    {
     "name": "stderr",
     "output_type": "stream",
     "text": [
      "/Users/kyle/github/kylebarron/lonboard-radar-example/.pixi/envs/default/lib/python3.12/site-packages/lonboard/_geoarrow/ops/reproject.py:23: UserWarning: No CRS exists on data. If no data is shown on the map, double check that your CRS is WGS84.\n",
      "  warn(\n"
     ]
    }
   ],
   "source": [
    "layer = SolidPolygonLayer(\n",
    "    table=table,\n",
    "    get_fill_color=apply_continuous_cmap(\n",
    "        reflectivity_normalized, cmap=cmweather.cm_colorblind.ChaseSpectral, alpha=0.5\n",
    "    ),\n",
    ")"
   ]
  },
  {
   "cell_type": "code",
   "execution_count": 26,
   "id": "9855abc1-cd9f-4542-bafa-5a547e6d0de1",
   "metadata": {},
   "outputs": [],
   "source": [
    "m = Map(layer, basemap_style=CartoBasemap.Positron)"
   ]
  },
  {
   "cell_type": "code",
   "execution_count": 27,
   "id": "f000ad7b",
   "metadata": {},
   "outputs": [
    {
     "data": {
      "application/vnd.jupyter.widget-view+json": {
       "model_id": "a854b6a263ad4de189634072c731cc8b",
       "version_major": 2,
       "version_minor": 1
      },
      "text/plain": [
       "Map(basemap_style=<CartoBasemap.Positron: 'https://basemaps.cartocdn.com/gl/positron-gl-style/style.json'>, la…"
      ]
     },
     "execution_count": 27,
     "metadata": {},
     "output_type": "execute_result"
    }
   ],
   "source": [
    "m"
   ]
  },
  {
   "cell_type": "code",
   "execution_count": null,
   "id": "a7143b7b-3b9f-4018-bf6e-1f213eee3210",
   "metadata": {},
   "outputs": [],
   "source": []
  }
 ],
 "metadata": {
  "kernelspec": {
   "display_name": "Python 3 (ipykernel)",
   "language": "python",
   "name": "python3"
  },
  "language_info": {
   "codemirror_mode": {
    "name": "ipython",
    "version": 3
   },
   "file_extension": ".py",
   "mimetype": "text/x-python",
   "name": "python",
   "nbconvert_exporter": "python",
   "pygments_lexer": "ipython3",
   "version": "3.12.6"
  }
 },
 "nbformat": 4,
 "nbformat_minor": 5
}
